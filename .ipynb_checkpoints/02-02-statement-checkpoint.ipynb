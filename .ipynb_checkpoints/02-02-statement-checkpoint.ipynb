{
 "cells": [
  {
   "cell_type": "markdown",
   "metadata": {},
   "source": [
    "# <center> Statement"
   ]
  },
  {
   "cell_type": "markdown",
   "metadata": {},
   "source": [
    "<img src=\"https://drive.google.com/uc?id=1TgD4z0mmcc_fhFcuY1m-P0s4BicDTaqx\" align=right width=150>  "
   ]
  },
  {
   "cell_type": "markdown",
   "metadata": {},
   "source": [
    "<div align=right> อารยา ด่านประชุม <br>รหัสนักศึกษา 1710511104053 </dvi>"
   ]
  },
  {
   "cell_type": "markdown",
   "metadata": {},
   "source": [
    "**ลำดับขั้นของPython**(The Python Conceptual Hierarchy Revisited)\n",
    "\n",
    "    1. Programs are composed of modules.\n",
    "    2. Modules contain statements.\n",
    "    3. Statements contain expressions.\n",
    "    4. Expressions create and process objects."
   ]
  },
  {
   "cell_type": "markdown",
   "metadata": {},
   "source": [
    "# Python’s Statements"
   ]
  },
  {
   "cell_type": "markdown",
   "metadata": {},
   "source": [
    "<table>\n",
    "    <tr>\n",
    "        <td><div align=center><b> Statement\n",
    "        <td><div align=center><b> Role (Role)\n",
    "        <td><div align=center><b> Example (ตัวอย่าง)\n",
    "    <tr> \n",
    "        <td><div align=center>Assignment การให้ค่า\n",
    "        <td><div align=center>Creating references สร้างการชี้ไปที่ค่า \n",
    "            <td><div align=center>a, b = 'good', 'bad' </pre> <br> ทางขวามือเรียกว่า Literals\n",
    "     <tr> \n",
    "        <td><div align=center>Calls and other expressions\n",
    "        <td><div align=center>Running functions\n",
    "            <td><div align=center>log.write(\"spam, ham\") </pre> <br> \n",
    "     <tr> \n",
    "        <td><div align=center>print calls \n",
    "        <td><div align=center>Printing objects\n",
    "            <td><div align=center>print('The Killer', joke) </pre> <br> \n",
    "                \n",
    "     <tr> \n",
    "        <td><div align=center>if/elif/else\n",
    "        <td><div align=center>Selecting actions\n",
    "            <td><div align=center>if \"python\" in text: \n",
    "                                                 print(text) </pre> <br> \n",
    "     <tr> \n",
    "        <td><div align=center>for/else\n",
    "        <td><div align=center>Iteration\n",
    "            <td><div align=center>for x in mylist: \n",
    "                                         print(x) </pre> <br> \n",
    "     <tr> \n",
    "        <td><div align=center>while/else\n",
    "        <td><div align=center>General loops\n",
    "            <td><div align=center>while X > Y:\n",
    " print('hello') </pre> <br> \n",
    "     <tr> \n",
    "        <td><div align=center>\n",
    "        <td><div align=center>\n",
    "            <td><div align=center> </pre> <br> \n",
    "    <tr> \n",
    "        <td><div align=center>\n",
    "        <td><div align=center>\n",
    "            <td><div align=center> </pre> <br> \n",
    "    <tr> \n",
    "        <td><div align=center>\n",
    "        <td><div align=center>\n",
    "            <td><div align=center </pre> <br> \n",
    "</table>"
   ]
  },
  {
   "cell_type": "markdown",
   "metadata": {},
   "source": [
    "statement บน Python มีลักษณะสำคัญ\n",
    "1. ใช้กันถ้วนหน้า (Indent) บอก statement ระดับของกั้นหน้า ตามเครื่องหมายทวิภาค (:)\n",
    "2. หลีกเลี่ยงการใช้วงเล็บ \"()\" วงเล็บใข้กับตัวเก็บ (Container) แบบ Tuple"
   ]
  },
  {
   "cell_type": "code",
   "execution_count": null,
   "metadata": {},
   "outputs": [],
   "source": [
    ":\n",
    "    :\n",
    "        :\n",
    "            :"
   ]
  },
  {
   "cell_type": "markdown",
   "metadata": {},
   "source": [
    "กั้นหน้าทำให้ codeของPython อ่านง่าย ทำให้ python เป็นที่นิยมกันทั่วไป"
   ]
  },
  {
   "cell_type": "markdown",
   "metadata": {},
   "source": [
    "# The Assignment Statement"
   ]
  },
  {
   "cell_type": "markdown",
   "metadata": {},
   "source": [
    "<pre>\n",
    "<i>\n",
    "target = expression\n",
    "target1 = target2 = expression\n",
    "target1, target2 = expression1, expression2\n",
    "target1 += expression\n",
    "target1, target2, ... = same-length-iterable\n",
    "(target1, target2, ...) = same-length-iterable\n",
    "[target1, target2, ...] = same-length-iterable\n",
    "target1, *target2, ... = matching-length-iterable"
   ]
  },
  {
   "cell_type": "markdown",
   "metadata": {},
   "source": [
    "### Sequence Assignments"
   ]
  },
  {
   "cell_type": "code",
   "execution_count": 6,
   "metadata": {},
   "outputs": [
    {
     "data": {
      "text/plain": [
       "(1, 2)"
      ]
     },
     "execution_count": 6,
     "metadata": {},
     "output_type": "execute_result"
    }
   ],
   "source": [
    "nudge = 1\n",
    "wink = 2\n",
    "A, B = nudge, wink\n",
    "A, B                        "
   ]
  },
  {
   "cell_type": "code",
   "execution_count": 7,
   "metadata": {},
   "outputs": [
    {
     "data": {
      "text/plain": [
       "(1, 2)"
      ]
     },
     "execution_count": 7,
     "metadata": {},
     "output_type": "execute_result"
    }
   ],
   "source": [
    "[C, D] = [nudge, wink] # List assignment\n",
    "C, D"
   ]
  },
  {
   "cell_type": "code",
   "execution_count": 5,
   "metadata": {},
   "outputs": [
    {
     "data": {
      "text/plain": [
       "(2, 1)"
      ]
     },
     "execution_count": 5,
     "metadata": {},
     "output_type": "execute_result"
    }
   ],
   "source": [
    "nudge = 1\n",
    "wink = 2\n",
    "nudge, wink = wink, nudge # Tuples: swaps values\n",
    "nudge, wink "
   ]
  },
  {
   "cell_type": "code",
   "execution_count": 8,
   "metadata": {},
   "outputs": [
    {
     "data": {
      "text/plain": [
       "(1, 3)"
      ]
     },
     "execution_count": 8,
     "metadata": {},
     "output_type": "execute_result"
    }
   ],
   "source": [
    "[a, b, c] = (1, 2, 3) # Assign tuple of values to list of names\n",
    "a, c"
   ]
  },
  {
   "cell_type": "code",
   "execution_count": 9,
   "metadata": {},
   "outputs": [
    {
     "data": {
      "text/plain": [
       "('A', 'C')"
      ]
     },
     "execution_count": 9,
     "metadata": {},
     "output_type": "execute_result"
    }
   ],
   "source": [
    "(a, b, c) = \"ABC\" # Assign string of characters to tuple\n",
    "a, c"
   ]
  },
  {
   "cell_type": "code",
   "execution_count": null,
   "metadata": {},
   "outputs": [],
   "source": []
  }
 ],
 "metadata": {
  "kernelspec": {
   "display_name": "Python 3",
   "language": "python",
   "name": "python3"
  },
  "language_info": {
   "codemirror_mode": {
    "name": "ipython",
    "version": 3
   },
   "file_extension": ".py",
   "mimetype": "text/x-python",
   "name": "python",
   "nbconvert_exporter": "python",
   "pygments_lexer": "ipython3",
   "version": "3.8.7"
  }
 },
 "nbformat": 4,
 "nbformat_minor": 4
}
